{
 "cells": [
  {
   "cell_type": "markdown",
   "id": "62e5cd0c",
   "metadata": {},
   "source": [
    "Sales of products in four different regions is tabulated for males and females. \n",
    "Find if male-female buyer rations are similar across regions."
   ]
  },
  {
   "cell_type": "code",
   "execution_count": 74,
   "id": "8682d84f",
   "metadata": {
    "ExecuteTime": {
     "end_time": "2021-08-25T15:16:04.308282Z",
     "start_time": "2021-08-25T15:16:04.288991Z"
    }
   },
   "outputs": [],
   "source": [
    "import pandas as pd\n",
    "import numpy as np\n",
    "from scipy.stats import ttest_ind"
   ]
  },
  {
   "cell_type": "code",
   "execution_count": 75,
   "id": "1d50e4af",
   "metadata": {
    "ExecuteTime": {
     "end_time": "2021-08-25T15:16:06.088148Z",
     "start_time": "2021-08-25T15:16:06.057311Z"
    }
   },
   "outputs": [
    {
     "data": {
      "text/html": [
       "<div>\n",
       "<style scoped>\n",
       "    .dataframe tbody tr th:only-of-type {\n",
       "        vertical-align: middle;\n",
       "    }\n",
       "\n",
       "    .dataframe tbody tr th {\n",
       "        vertical-align: top;\n",
       "    }\n",
       "\n",
       "    .dataframe thead th {\n",
       "        text-align: right;\n",
       "    }\n",
       "</style>\n",
       "<table border=\"1\" class=\"dataframe\">\n",
       "  <thead>\n",
       "    <tr style=\"text-align: right;\">\n",
       "      <th></th>\n",
       "      <th>Observed Values</th>\n",
       "      <th>East</th>\n",
       "      <th>West</th>\n",
       "      <th>North</th>\n",
       "      <th>South</th>\n",
       "    </tr>\n",
       "  </thead>\n",
       "  <tbody>\n",
       "    <tr>\n",
       "      <th>0</th>\n",
       "      <td>Males</td>\n",
       "      <td>50</td>\n",
       "      <td>142</td>\n",
       "      <td>131</td>\n",
       "      <td>70</td>\n",
       "    </tr>\n",
       "    <tr>\n",
       "      <th>1</th>\n",
       "      <td>Females</td>\n",
       "      <td>550</td>\n",
       "      <td>351</td>\n",
       "      <td>480</td>\n",
       "      <td>350</td>\n",
       "    </tr>\n",
       "  </tbody>\n",
       "</table>\n",
       "</div>"
      ],
      "text/plain": [
       "  Observed Values  East  West  North  South\n",
       "0           Males    50   142    131     70\n",
       "1         Females   550   351    480    350"
      ]
     },
     "execution_count": 75,
     "metadata": {},
     "output_type": "execute_result"
    }
   ],
   "source": [
    "data=pd.read_csv(\"BuyerRatio.csv\")\n",
    "data"
   ]
  },
  {
   "cell_type": "code",
   "execution_count": 76,
   "id": "e17051c3",
   "metadata": {
    "ExecuteTime": {
     "end_time": "2021-08-25T15:16:08.378008Z",
     "start_time": "2021-08-25T15:16:08.352139Z"
    }
   },
   "outputs": [
    {
     "data": {
      "text/html": [
       "<div>\n",
       "<style scoped>\n",
       "    .dataframe tbody tr th:only-of-type {\n",
       "        vertical-align: middle;\n",
       "    }\n",
       "\n",
       "    .dataframe tbody tr th {\n",
       "        vertical-align: top;\n",
       "    }\n",
       "\n",
       "    .dataframe thead th {\n",
       "        text-align: right;\n",
       "    }\n",
       "</style>\n",
       "<table border=\"1\" class=\"dataframe\">\n",
       "  <thead>\n",
       "    <tr style=\"text-align: right;\">\n",
       "      <th></th>\n",
       "      <th>East</th>\n",
       "      <th>West</th>\n",
       "      <th>North</th>\n",
       "      <th>South</th>\n",
       "    </tr>\n",
       "  </thead>\n",
       "  <tbody>\n",
       "    <tr>\n",
       "      <th>0</th>\n",
       "      <td>50</td>\n",
       "      <td>142</td>\n",
       "      <td>131</td>\n",
       "      <td>70</td>\n",
       "    </tr>\n",
       "    <tr>\n",
       "      <th>1</th>\n",
       "      <td>550</td>\n",
       "      <td>351</td>\n",
       "      <td>480</td>\n",
       "      <td>350</td>\n",
       "    </tr>\n",
       "  </tbody>\n",
       "</table>\n",
       "</div>"
      ],
      "text/plain": [
       "   East  West  North  South\n",
       "0    50   142    131     70\n",
       "1   550   351    480    350"
      ]
     },
     "execution_count": 76,
     "metadata": {},
     "output_type": "execute_result"
    }
   ],
   "source": [
    "data.drop(labels=['Observed Values'],axis=1,inplace=True)\n",
    "data"
   ]
  },
  {
   "cell_type": "code",
   "execution_count": 77,
   "id": "cc8b324a",
   "metadata": {
    "ExecuteTime": {
     "end_time": "2021-08-25T15:16:11.447292Z",
     "start_time": "2021-08-25T15:16:11.427388Z"
    },
    "scrolled": true
   },
   "outputs": [
    {
     "data": {
      "text/plain": [
       "East      50\n",
       "West     142\n",
       "North    131\n",
       "South     70\n",
       "Name: 0, dtype: int64"
      ]
     },
     "execution_count": 77,
     "metadata": {},
     "output_type": "execute_result"
    }
   ],
   "source": [
    "Males_salesData=pd.Series(data.loc[0,'East':'South'])\n",
    "Males_salesData"
   ]
  },
  {
   "cell_type": "code",
   "execution_count": 78,
   "id": "ab971ea1",
   "metadata": {
    "ExecuteTime": {
     "end_time": "2021-08-25T15:16:14.138023Z",
     "start_time": "2021-08-25T15:16:14.122434Z"
    }
   },
   "outputs": [
    {
     "data": {
      "text/plain": [
       "East     550\n",
       "West     351\n",
       "North    480\n",
       "South    350\n",
       "Name: 1, dtype: int64"
      ]
     },
     "execution_count": 78,
     "metadata": {},
     "output_type": "execute_result"
    }
   ],
   "source": [
    "Females_salesData=pd.Series(data.loc[1,'East':'South'])\n",
    "Females_salesData"
   ]
  },
  {
   "cell_type": "markdown",
   "id": "49bbbc5e",
   "metadata": {},
   "source": [
    "Null Hypothesis Ho:All proportions are equal.\n",
    "Alternate Hypothesis Ha:Not all proportions are equal."
   ]
  },
  {
   "cell_type": "code",
   "execution_count": 79,
   "id": "6c3345f8",
   "metadata": {
    "ExecuteTime": {
     "end_time": "2021-08-25T15:16:24.803210Z",
     "start_time": "2021-08-25T15:16:24.786567Z"
    }
   },
   "outputs": [
    {
     "name": "stdout",
     "output_type": "stream",
     "text": [
      "statistic value is -6.139294288037571 \n",
      "pvalue is 0.0008548166684701879\n"
     ]
    }
   ],
   "source": [
    "statistic,pvalue=ttest_ind(Males_salesData,Females_salesData)\n",
    "print(\"statistic value is {} \\npvalue is {}\".format(statistic,pvalue))"
   ]
  },
  {
   "cell_type": "markdown",
   "id": "482d3bee",
   "metadata": {},
   "source": [
    "Comparing pvalue with 5% significance level.Since pvalue<0.05,we reject the null hypothesis saying not all\n",
    "proportions are equal."
   ]
  }
 ],
 "metadata": {
  "kernelspec": {
   "display_name": "Python 3",
   "language": "python",
   "name": "python3"
  },
  "language_info": {
   "codemirror_mode": {
    "name": "ipython",
    "version": 3
   },
   "file_extension": ".py",
   "mimetype": "text/x-python",
   "name": "python",
   "nbconvert_exporter": "python",
   "pygments_lexer": "ipython3",
   "version": "3.8.8"
  },
  "varInspector": {
   "cols": {
    "lenName": 16,
    "lenType": 16,
    "lenVar": 40
   },
   "kernels_config": {
    "python": {
     "delete_cmd_postfix": "",
     "delete_cmd_prefix": "del ",
     "library": "var_list.py",
     "varRefreshCmd": "print(var_dic_list())"
    },
    "r": {
     "delete_cmd_postfix": ") ",
     "delete_cmd_prefix": "rm(",
     "library": "var_list.r",
     "varRefreshCmd": "cat(var_dic_list()) "
    }
   },
   "types_to_exclude": [
    "module",
    "function",
    "builtin_function_or_method",
    "instance",
    "_Feature"
   ],
   "window_display": false
  }
 },
 "nbformat": 4,
 "nbformat_minor": 5
}
